{
 "cells": [
  {
   "cell_type": "markdown",
   "metadata": {},
   "source": [
    "# 3"
   ]
  },
  {
   "cell_type": "code",
   "execution_count": 2,
   "metadata": {},
   "outputs": [],
   "source": [
    "import tweepy,re\n",
    "from textblob import TextBlob\n",
    "import matplotlib.pyplot as plt\n",
    "import pandas as pd\n",
    "from nltk.tokenize import word_tokenize\n",
    "from nltk.stem import WordNetLemmatizer\n",
    "from nltk.corpus import stopwords"
   ]
  },
  {
   "cell_type": "code",
   "execution_count": 3,
   "metadata": {},
   "outputs": [],
   "source": [
    "# authentication\n",
    "consumerKey = 'nAfAiljzt8Ntd1oatjYU2uvKc'\n",
    "consumerSecret = 'JBJahC7nKS4q853V0vodZ8buaYGHwySv6u5XFm52dlownOqTRm'\n",
    "accessToken = '4880646753-8TzBk1UEjuvXEXR2XL7uJ2ZFMRZnwNrDOioUHI9'\n",
    "accessTokenSecret = 'CjAas3cB7A9OW7SJFA6SOkyfgv61MyN59W0g47ZSqBL2b'\n",
    "auth = tweepy.OAuthHandler(consumerKey, consumerSecret)\n",
    "auth.set_access_token(accessToken, accessTokenSecret)\n",
    "api = tweepy.API(auth)\n",
    "client = tweepy.Client(bearer_token=r'AAAAAAAAAAAAAAAAAAAAAGiQiQEAAAAAAePfFiX27jZnFuNv7yiNEm4Ol24%3DuaMkpfuchBoWnJ7zrMmMsqsqpFXcPZXrgy6BGbUYQGyG9EZ(y0sa)T')"
   ]
  },
  {
   "cell_type": "code",
   "execution_count": 3,
   "metadata": {},
   "outputs": [
    {
     "name": "stdout",
     "output_type": "stream",
     "text": [
      "select the query termRussia war\n",
      "select the no of tweets50\n"
     ]
    }
   ],
   "source": [
    "# input for term to be searched and how many tweets to search\n",
    "\n",
    "searchTerm=input(\"select the query term \")\n",
    "NoofTweets=int(input(\"select the no of tweets \"))\n",
    "query = searchTerm+\" -is:retweet\"\n",
    "tweets=client.search_recent_tweets(query=query, max_results=NofTweets)"
   ]
  },
  {
   "cell_type": "code",
   "execution_count": 4,
   "metadata": {},
   "outputs": [
    {
     "data": {
      "text/html": [
       "<div>\n",
       "<style scoped>\n",
       "    .dataframe tbody tr th:only-of-type {\n",
       "        vertical-align: middle;\n",
       "    }\n",
       "\n",
       "    .dataframe tbody tr th {\n",
       "        vertical-align: top;\n",
       "    }\n",
       "\n",
       "    .dataframe thead th {\n",
       "        text-align: right;\n",
       "    }\n",
       "</style>\n",
       "<table border=\"1\" class=\"dataframe\">\n",
       "  <thead>\n",
       "    <tr style=\"text-align: right;\">\n",
       "      <th></th>\n",
       "      <th>0</th>\n",
       "    </tr>\n",
       "  </thead>\n",
       "  <tbody>\n",
       "    <tr>\n",
       "      <th>0</th>\n",
       "      <td>@SecBlinken @MohamedBinZayed APPEAL TO RUSSIA,...</td>\n",
       "    </tr>\n",
       "    <tr>\n",
       "      <th>1</th>\n",
       "      <td>All oligarch homes in the UK, EU, should house...</td>\n",
       "    </tr>\n",
       "    <tr>\n",
       "      <th>2</th>\n",
       "      <td>@Tendar To be fair, the West has not sent any ...</td>\n",
       "    </tr>\n",
       "    <tr>\n",
       "      <th>3</th>\n",
       "      <td>\"Russia and Myanmar form a partnership of uneq...</td>\n",
       "    </tr>\n",
       "    <tr>\n",
       "      <th>4</th>\n",
       "      <td>@giovannibasta @business No one takes war esti...</td>\n",
       "    </tr>\n",
       "    <tr>\n",
       "      <th>...</th>\n",
       "      <td>...</td>\n",
       "    </tr>\n",
       "    <tr>\n",
       "      <th>95</th>\n",
       "      <td>@EmmaKennedy @PeterMcCole Well to be fair, the...</td>\n",
       "    </tr>\n",
       "    <tr>\n",
       "      <th>96</th>\n",
       "      <td>@business #RUSSIA will use a dirty bomb any ti...</td>\n",
       "    </tr>\n",
       "    <tr>\n",
       "      <th>97</th>\n",
       "      <td>@Veritatem2021 @WeRone777 @JackJsherebkin @ozz...</td>\n",
       "    </tr>\n",
       "    <tr>\n",
       "      <th>98</th>\n",
       "      <td>@GlobalHaraKiri @Jordan_Duffy23 @tarkov they a...</td>\n",
       "    </tr>\n",
       "    <tr>\n",
       "      <th>99</th>\n",
       "      <td>@tbrighttt Because the US has low standing wit...</td>\n",
       "    </tr>\n",
       "  </tbody>\n",
       "</table>\n",
       "<p>100 rows × 1 columns</p>\n",
       "</div>"
      ],
      "text/plain": [
       "                                                    0\n",
       "0   @SecBlinken @MohamedBinZayed APPEAL TO RUSSIA,...\n",
       "1   All oligarch homes in the UK, EU, should house...\n",
       "2   @Tendar To be fair, the West has not sent any ...\n",
       "3   \"Russia and Myanmar form a partnership of uneq...\n",
       "4   @giovannibasta @business No one takes war esti...\n",
       "..                                                ...\n",
       "95  @EmmaKennedy @PeterMcCole Well to be fair, the...\n",
       "96  @business #RUSSIA will use a dirty bomb any ti...\n",
       "97  @Veritatem2021 @WeRone777 @JackJsherebkin @ozz...\n",
       "98  @GlobalHaraKiri @Jordan_Duffy23 @tarkov they a...\n",
       "99  @tbrighttt Because the US has low standing wit...\n",
       "\n",
       "[100 rows x 1 columns]"
      ]
     },
     "execution_count": 4,
     "metadata": {},
     "output_type": "execute_result"
    }
   ],
   "source": [
    "tweet_list = [tweet.text for tweet in tweets.data]\n",
    "tweet_df = pd.DataFrame(tweet_list)\n",
    "tweet_df"
   ]
  },
  {
   "cell_type": "markdown",
   "metadata": {},
   "source": [
    "# 4"
   ]
  },
  {
   "cell_type": "code",
   "execution_count": 5,
   "metadata": {},
   "outputs": [],
   "source": [
    "def clean_data(text):\n",
    "    return ' '.join(re.sub(\"(@[a-zA-Z0-9]+)|([^0-9A-Za-z])|(https://[\\w.]+/[\\w]+)\", \" \", text).split())\n",
    "\n",
    "tweet_df['cleaned_data'] = tweet_df[0].apply(clean_data)"
   ]
  },
  {
   "cell_type": "code",
   "execution_count": 6,
   "metadata": {},
   "outputs": [
    {
     "data": {
      "text/html": [
       "<div>\n",
       "<style scoped>\n",
       "    .dataframe tbody tr th:only-of-type {\n",
       "        vertical-align: middle;\n",
       "    }\n",
       "\n",
       "    .dataframe tbody tr th {\n",
       "        vertical-align: top;\n",
       "    }\n",
       "\n",
       "    .dataframe thead th {\n",
       "        text-align: right;\n",
       "    }\n",
       "</style>\n",
       "<table border=\"1\" class=\"dataframe\">\n",
       "  <thead>\n",
       "    <tr style=\"text-align: right;\">\n",
       "      <th></th>\n",
       "      <th>0</th>\n",
       "      <th>cleaned_data</th>\n",
       "    </tr>\n",
       "  </thead>\n",
       "  <tbody>\n",
       "    <tr>\n",
       "      <th>0</th>\n",
       "      <td>@SecBlinken @MohamedBinZayed APPEAL TO RUSSIA,...</td>\n",
       "      <td>APPEAL TO RUSSIA UKRAINE and WORLD Russians be...</td>\n",
       "    </tr>\n",
       "    <tr>\n",
       "      <th>1</th>\n",
       "      <td>All oligarch homes in the UK, EU, should house...</td>\n",
       "      <td>All oligarch homes in the UK EU should house U...</td>\n",
       "    </tr>\n",
       "    <tr>\n",
       "      <th>2</th>\n",
       "      <td>@Tendar To be fair, the West has not sent any ...</td>\n",
       "      <td>To be fair the West has not sent any A stuff t...</td>\n",
       "    </tr>\n",
       "    <tr>\n",
       "      <th>3</th>\n",
       "      <td>\"Russia and Myanmar form a partnership of uneq...</td>\n",
       "      <td>Russia and Myanmar form a partnership of unequ...</td>\n",
       "    </tr>\n",
       "    <tr>\n",
       "      <th>4</th>\n",
       "      <td>@giovannibasta @business No one takes war esti...</td>\n",
       "      <td>No one takes war estimates as factual especial...</td>\n",
       "    </tr>\n",
       "  </tbody>\n",
       "</table>\n",
       "</div>"
      ],
      "text/plain": [
       "                                                   0  \\\n",
       "0  @SecBlinken @MohamedBinZayed APPEAL TO RUSSIA,...   \n",
       "1  All oligarch homes in the UK, EU, should house...   \n",
       "2  @Tendar To be fair, the West has not sent any ...   \n",
       "3  \"Russia and Myanmar form a partnership of uneq...   \n",
       "4  @giovannibasta @business No one takes war esti...   \n",
       "\n",
       "                                        cleaned_data  \n",
       "0  APPEAL TO RUSSIA UKRAINE and WORLD Russians be...  \n",
       "1  All oligarch homes in the UK EU should house U...  \n",
       "2  To be fair the West has not sent any A stuff t...  \n",
       "3  Russia and Myanmar form a partnership of unequ...  \n",
       "4  No one takes war estimates as factual especial...  "
      ]
     },
     "execution_count": 6,
     "metadata": {},
     "output_type": "execute_result"
    }
   ],
   "source": [
    "tweet_df.head()"
   ]
  },
  {
   "cell_type": "code",
   "execution_count": 7,
   "metadata": {},
   "outputs": [],
   "source": [
    "def drop_numbers(list_text):\n",
    "    list_text_new = []\n",
    "    for i in list_text:\n",
    "        if not re.search('\\d', i):\n",
    "            list_text_new.append(i)\n",
    "    return ''.join(list_text_new)\n",
    "\n",
    "tweet_df['cleaned_data'] = tweet_df['cleaned_data'].apply(drop_numbers)"
   ]
  },
  {
   "cell_type": "code",
   "execution_count": 8,
   "metadata": {},
   "outputs": [
    {
     "data": {
      "text/html": [
       "<div>\n",
       "<style scoped>\n",
       "    .dataframe tbody tr th:only-of-type {\n",
       "        vertical-align: middle;\n",
       "    }\n",
       "\n",
       "    .dataframe tbody tr th {\n",
       "        vertical-align: top;\n",
       "    }\n",
       "\n",
       "    .dataframe thead th {\n",
       "        text-align: right;\n",
       "    }\n",
       "</style>\n",
       "<table border=\"1\" class=\"dataframe\">\n",
       "  <thead>\n",
       "    <tr style=\"text-align: right;\">\n",
       "      <th></th>\n",
       "      <th>0</th>\n",
       "      <th>cleaned_data</th>\n",
       "    </tr>\n",
       "  </thead>\n",
       "  <tbody>\n",
       "    <tr>\n",
       "      <th>0</th>\n",
       "      <td>@SecBlinken @MohamedBinZayed APPEAL TO RUSSIA,...</td>\n",
       "      <td>APPEAL TO RUSSIA UKRAINE and WORLD Russians be...</td>\n",
       "    </tr>\n",
       "    <tr>\n",
       "      <th>1</th>\n",
       "      <td>All oligarch homes in the UK, EU, should house...</td>\n",
       "      <td>All oligarch homes in the UK EU should house U...</td>\n",
       "    </tr>\n",
       "    <tr>\n",
       "      <th>2</th>\n",
       "      <td>@Tendar To be fair, the West has not sent any ...</td>\n",
       "      <td>To be fair the West has not sent any A stuff t...</td>\n",
       "    </tr>\n",
       "    <tr>\n",
       "      <th>3</th>\n",
       "      <td>\"Russia and Myanmar form a partnership of uneq...</td>\n",
       "      <td>Russia and Myanmar form a partnership of unequ...</td>\n",
       "    </tr>\n",
       "    <tr>\n",
       "      <th>4</th>\n",
       "      <td>@giovannibasta @business No one takes war esti...</td>\n",
       "      <td>No one takes war estimates as factual especial...</td>\n",
       "    </tr>\n",
       "  </tbody>\n",
       "</table>\n",
       "</div>"
      ],
      "text/plain": [
       "                                                   0  \\\n",
       "0  @SecBlinken @MohamedBinZayed APPEAL TO RUSSIA,...   \n",
       "1  All oligarch homes in the UK, EU, should house...   \n",
       "2  @Tendar To be fair, the West has not sent any ...   \n",
       "3  \"Russia and Myanmar form a partnership of uneq...   \n",
       "4  @giovannibasta @business No one takes war esti...   \n",
       "\n",
       "                                        cleaned_data  \n",
       "0  APPEAL TO RUSSIA UKRAINE and WORLD Russians be...  \n",
       "1  All oligarch homes in the UK EU should house U...  \n",
       "2  To be fair the West has not sent any A stuff t...  \n",
       "3  Russia and Myanmar form a partnership of unequ...  \n",
       "4  No one takes war estimates as factual especial...  "
      ]
     },
     "execution_count": 8,
     "metadata": {},
     "output_type": "execute_result"
    }
   ],
   "source": [
    "tweet_df.head()"
   ]
  },
  {
   "cell_type": "code",
   "execution_count": 9,
   "metadata": {},
   "outputs": [
    {
     "data": {
      "text/html": [
       "<div>\n",
       "<style scoped>\n",
       "    .dataframe tbody tr th:only-of-type {\n",
       "        vertical-align: middle;\n",
       "    }\n",
       "\n",
       "    .dataframe tbody tr th {\n",
       "        vertical-align: top;\n",
       "    }\n",
       "\n",
       "    .dataframe thead th {\n",
       "        text-align: right;\n",
       "    }\n",
       "</style>\n",
       "<table border=\"1\" class=\"dataframe\">\n",
       "  <thead>\n",
       "    <tr style=\"text-align: right;\">\n",
       "      <th></th>\n",
       "      <th>0</th>\n",
       "      <th>cleaned_data</th>\n",
       "    </tr>\n",
       "  </thead>\n",
       "  <tbody>\n",
       "    <tr>\n",
       "      <th>0</th>\n",
       "      <td>@SecBlinken @MohamedBinZayed APPEAL TO RUSSIA,...</td>\n",
       "      <td>appeal to russia ukraine and world russians be...</td>\n",
       "    </tr>\n",
       "    <tr>\n",
       "      <th>1</th>\n",
       "      <td>All oligarch homes in the UK, EU, should house...</td>\n",
       "      <td>all oligarch homes in the uk eu should house u...</td>\n",
       "    </tr>\n",
       "    <tr>\n",
       "      <th>2</th>\n",
       "      <td>@Tendar To be fair, the West has not sent any ...</td>\n",
       "      <td>to be fair the west has not sent any a stuff t...</td>\n",
       "    </tr>\n",
       "    <tr>\n",
       "      <th>3</th>\n",
       "      <td>\"Russia and Myanmar form a partnership of uneq...</td>\n",
       "      <td>russia and myanmar form a partnership of unequ...</td>\n",
       "    </tr>\n",
       "    <tr>\n",
       "      <th>4</th>\n",
       "      <td>@giovannibasta @business No one takes war esti...</td>\n",
       "      <td>no one takes war estimates as factual especial...</td>\n",
       "    </tr>\n",
       "  </tbody>\n",
       "</table>\n",
       "</div>"
      ],
      "text/plain": [
       "                                                   0  \\\n",
       "0  @SecBlinken @MohamedBinZayed APPEAL TO RUSSIA,...   \n",
       "1  All oligarch homes in the UK, EU, should house...   \n",
       "2  @Tendar To be fair, the West has not sent any ...   \n",
       "3  \"Russia and Myanmar form a partnership of uneq...   \n",
       "4  @giovannibasta @business No one takes war esti...   \n",
       "\n",
       "                                        cleaned_data  \n",
       "0  appeal to russia ukraine and world russians be...  \n",
       "1  all oligarch homes in the uk eu should house u...  \n",
       "2  to be fair the west has not sent any a stuff t...  \n",
       "3  russia and myanmar form a partnership of unequ...  \n",
       "4  no one takes war estimates as factual especial...  "
      ]
     },
     "execution_count": 9,
     "metadata": {},
     "output_type": "execute_result"
    }
   ],
   "source": [
    "# changing all the words of the reviews column to lowercase letters\n",
    "def lower_case(text):\n",
    "    text_words = word_tokenize(text)\n",
    "    text_words_lower = [x.lower() for x in text_words]\n",
    "    \n",
    "    return ' '.join(text_words_lower)\n",
    "\n",
    "tweet_df['cleaned_data'] = tweet_df['cleaned_data'].apply(lower_case)\n",
    "tweet_df.head()"
   ]
  },
  {
   "cell_type": "code",
   "execution_count": 10,
   "metadata": {},
   "outputs": [
    {
     "name": "stderr",
     "output_type": "stream",
     "text": [
      "[nltk_data] Downloading package wordnet to\n",
      "[nltk_data]     C:\\Users\\farook\\AppData\\Roaming\\nltk_data...\n",
      "[nltk_data]   Package wordnet is already up-to-date!\n",
      "[nltk_data] Downloading package punkt to\n",
      "[nltk_data]     C:\\Users\\farook\\AppData\\Roaming\\nltk_data...\n",
      "[nltk_data]   Package punkt is already up-to-date!\n"
     ]
    },
    {
     "data": {
      "text/plain": [
       "True"
      ]
     },
     "execution_count": 10,
     "metadata": {},
     "output_type": "execute_result"
    }
   ],
   "source": [
    "import nltk\n",
    "nltk.download('wordnet')\n",
    "nltk.download('punkt')"
   ]
  },
  {
   "cell_type": "code",
   "execution_count": 11,
   "metadata": {},
   "outputs": [
    {
     "data": {
      "text/plain": [
       "array(['appeal to russia ukraine and world russian believe in jesus ukranian and most european and american also many others too by concidence or not today we talked about the war after we met a guy on the plane and were reading a book about jesus',\n",
       "       'all oligarch home in the uk eu should house ukrainian guest and asset sold to finance them until they return back to their own land slavaukra ni don t be fooled sanction really are hurting russia s war against ukraine carla norrl f',\n",
       "       'to be fair the west ha not sent any a stuff to ukraine rather the west found out it nd generation war machine are more advanced that russia s th generation equivalent',\n",
       "       'russia and myanmar form a partnership of unequals by by sui lee wee via nyt',\n",
       "       'no one take war estimate a factual especially aircraft loss these are notoriously difficult to calculate also especially pre war it wa only russia that we in the west listened too for month we debated nazi and nato and all the time russia wa just lying',\n",
       "       'fighting rage in ukraine s bakhmut a battle for kherson loom russia ukraine war news ukrainian troop are holding out against attack by russian force in two eastern town while those on the southern front are poised to battle for the strateg',\n",
       "       'exclusive video putin is desperate a he s failing russiaislosing stoprussianow ukrainewillwin ukrainecounteroffensive ukrainewarnews ukrainerussiawar ukraine putinwarcrimes iartg russianarmy russia btrtg rt russiaisaterrorisstate russian',\n",
       "       'military career in russia is good until you have to go to war',\n",
       "       'lindheim and i agree but also stuff like that take alot of time in berocracy it took the u a cold war with russia to make u the biggest player and with how divided we are now shit looking rough',\n",
       "       'wagner fighter amp russian troop come to blow l putin s army amp mercenary at odds over ukraine war russia ukraine war news ukrainewar',\n",
       "       'rog so let me get this straight you two want humanity to be united in condemnation against israel but don t want to unite with humanity in condemnation of russia war crime are war crime committed by israel russia the u or the uk',\n",
       "       'iea confirms huge and lasting impact of russia ukraine war on energy market',\n",
       "       'ukraine ha always been at least open to discussing neutrality though perhaps preferring nato membership ukrainian neutrality wa part of a deal negotiated with russia near start of war but rejected by putin who is just an imperialist and this wa a pretext',\n",
       "       'spot on but by the end of the war russia helped the ally invade germany and liberate europe',\n",
       "       'yes i think the russian leadership should understand that fighting a war a an invader in ukraine is mentally very different from repelling an invader in russia or soviet union soldier are simply a lot le motivated to take risk',\n",
       "       'm the people of ukraine want russia to withdraw from our territory and then the war will end',\n",
       "       'i think that president biden and the democrat behind him do not have a far sighted view of the economy especially since russia s war ha begun to take a different turn',\n",
       "       'russia amp putler want to play game with nuclear threat not a smart move on his behalf if it come down to it which a an i hope it doe not we could erase all of russia from the global map no nuclear war need to happen i pray',\n",
       "       'russian destruction over the ukrainian power plant and otherwise infrastructure so far war russia ukraine ukrainewar usa cia ned pentagon coup colonialism terrorism nato n eu r america n',\n",
       "       'i m always hearing people say both on radio and tv that this is the first time ghanaians are experiencing this kind of economic hardship but i have never heard any of them saying that ghana and the world ha been smack by covid and russia ukraine war for the first time',\n",
       "       'i think that president biden and the democrat behind him do not have a far sighted view of the economy especially since russia s war ha begun to take a different turn',\n",
       "       'i think that president biden and the democrat behind him do not have a far sighted view of the economy especially since russia s war ha begun to take a different turn',\n",
       "       'grand roger think the west should capitulate to stop this madness let russia have whatever concession necessary to stop the war that s his opinion and i love roger and david nick richard et al and i respect the brilliance of his mind but this is a complicated problem',\n",
       "       'russia and ukraine are still at war but everyone ha moved on a reminder that you are always on your own in this life you bear consequence of your choice irrespective of whoever influenced it',\n",
       "       'i think that president biden and the democrat behind him do not have a far sighted view of the economy especially since russia s war ha begun to take a different turn',\n",
       "       'za thank you mayor geordin hill lewis for your principled stand for ukraine against the illegal invasion and war crime of putin s russia standwithukraine ukrainewillwin russiaisaterrorisstate',\n",
       "       'i think that president biden and the democrat behind him do not have a far sighted view of the economy especially since russia s war ha begun to take a different turn',\n",
       "       'don t be fooled sanction really are hurting russia s war against ukraine',\n",
       "       'this genius here belief brittney griner is a prisoner of war even though she wa arrested at an airport amp not a battlefield before russia s war in ukraine even began good thing these troll are anonymous bc this is completely embarrassing holy fuck',\n",
       "       'i think that president biden and the democrat behind him do not have a far sighted view of the economy especially since russia s war ha begun to take a different turn',\n",
       "       'ukraine russia war russia conduct nuclear drill moscow reportedly trying to recruit u trained afghan commando',\n",
       "       'a snapshot of my long op ed p norsk today in the title read russia s war made norway s well known drone vulnerability more dangerous and visible',\n",
       "       'a russia s war in ukraine dragged into a ninth month it army s weakness became clearer with an apparent reliance on iranian support growing stronger',\n",
       "       'if you don t show strength then nuclear war is more likely a soon a russia think it can use nuke without consequence it will use them',\n",
       "       'die usa geben den derzeitigen plan einer preisobergrenze f r russisches l auf wie er bisher vorgesehen war ukraine ukrainerussianwar ukrainewar russia nato usa selenskyj eu kherson kharkiv',\n",
       "       'researcher point out state such a russia china turkey iran north korea are likely to target undersea cable in a hybrid war it s necessary for the to work on those cable security commission vice president margaritis schinas warned last month',\n",
       "       'i think that president biden and the democrat behind him do not have a far sighted view of the economy especially since russia s war ha begun to take a different turn',\n",
       "       'ukraine refused to be neutral because they were already in a war with russia',\n",
       "       'submit music when russian troop fled the ukrainian town of balakliia last month they left behind thousand of document that detail the inner working of the russian war machine news twitternews b',\n",
       "       'the ukrainian war is one of the last colonial war russia is the last colonial state on earth',\n",
       "       'we african why should we interfere at this war western and russia they are playing the game on ukrainian ground but one thing when russia need u we won t be hard to be with them',\n",
       "       'there ought to be law against emission racism heck the same luddite argued argued that india wa at fault for funding russia s coffer during the war unbelievable',\n",
       "       'i think that president biden and the democrat behind him do not have a far sighted view of the economy especially since russia s war ha begun to take a different turn',\n",
       "       'world should stop funding war and try to bring both ukraine and russia to solve it diplomatically it s difficult but not impossible to return back to chose life over death',\n",
       "       'russia escalated it special military operation in ukraine the u and nato are directly responsible for goading them into war capitalism is evil and must go',\n",
       "       'putin repeat unsupported dirty bomb claim fueling fear of escalation the new york time',\n",
       "       'exactly with gop poised to retake congress russia want to curry favor with the conservative and get their support in the war',\n",
       "       'russia russian eu un translation russia is considering using dirty bomb because they can t even win a land war',\n",
       "       'russia ukraine war live news kyiv region and zaporizhzhia hit by fresh strike local official say',\n",
       "       'the war between russia and ukraine is taking an ugly turn need to persuade them for talk and ceasefire',\n",
       "       'i think that president biden and the democrat behind him do not have a far sighted view of the economy especially since russia s war ha begun to take a different turn',\n",
       "       'russia started the war of by moving army unit across the border unless you really believe separatist had artillery and tank ready in the second week of fighting in remeber white humanitarian convoy from putin it moved weapon and ammo',\n",
       "       'russia threatens to shoot down commercial satellite helping ukraine their way of war which is the way to achieve political end is about severing all the lifeline for the victim not caring whether the target is legitimate and choosing a target unable to fight back',\n",
       "       'when russian troop fled the ukrainian town of balakliia last month they left behind thousand of document that detail the inner working of the russian war machine',\n",
       "       'when zionist can put war in front of russia through it puppet when they put puppet for year in afg when they put puppet in many other country for year do we think we don t have puppet within u only afg came out of puppet we need to see how they come out of it',\n",
       "       'always try to navigate through the fog of war how many sanction ha turkey imposed on russia',\n",
       "       'here is why this is the beginning of a big russian military defeat in ukraine russia ukraine war news ukrainewar',\n",
       "       'andy vermaut share ukraine war ukrainian and russian grain deal could be extended past november ukrainian and russian grain deal could be extended past november western commercial satellite could be targeted by russia thank you',\n",
       "       'the ethnic russian asked for year to be annexed into russia russia wasted time on minsk negotiation also asked for direct negotiation with washington but wa ignored you got the war you wanted',\n",
       "       'russia considers commercial satellite used in the war in ukraine a legitimate target konstantin vorontsov deputy head of the department for non proliferation and arm control of the russian fm stated this at a meeting of the un general assembly committee starwars in ua',\n",
       "       'pojawi si film przedstawiaj cy konsekwencje ataku ukrai skiego w okupowanym prze ruskich szachtarsku ukraine wojna rosja ukraina rosjaukraina wojnawukrainie warinukraine war russia warcrimes',\n",
       "       'org it s not a conflict it s a war russia invaded a neighbouring country without provocation that is a war',\n",
       "       'hanke so russia invades a major european country in the hope of conquering it land and eradicating it culture but u is to blame good to know what else can we blame the u for secondly so if a country ha nuke we ll tolerate it hostile action and conquest bc muh nuke war',\n",
       "       'russia ukraine war live news kyiv region and zaporizhzhia hit by fresh strike local official say',\n",
       "       'eu is waging the energy war not russia why do you keep repeating your pathetic lie day after day patronizing',\n",
       "       'i think that president biden and the democrat behind him do not have a far sighted view of the economy especially since russia s war ha begun to take a different turn',\n",
       "       'sbear with ukraine s regular military vanquished washington seek to fund a cia backed insurgency to ratchet up civil war and destabilize russia s frontier you have a short memory',\n",
       "       'it is the call of international community and ukraine s ally who have all l been subject to russia s crime this isn t their call alone they can prosecute them in ukraine but a tribunal isn t their call it is the call of those that fund ukraine and that fund this war the west',\n",
       "       'don t be fooled sanction really are hurting russia s war against ukraine',\n",
       "       'thank you mayor geordin hill lewis for your principled stand for ukraine against the illegal invasion and war crime of putin s russia standwithukraine ukrainewillwin russiaisaterrorisstate putinwarcriminal',\n",
       "       'i think that president biden and the democrat behind him do not have a far sighted view of the economy especially since russia s war ha begun to take a different turn',\n",
       "       'fighting rage in ukraine s bakhmut a battle for kherson loom russia ukraine war news',\n",
       "       'i think that president biden and the democrat behind him do not have a far sighted view of the economy especially since russia s war ha begun to take a different turn',\n",
       "       'russia ukraine war at a glance what we know on day of the invasion ukraine the guardian',\n",
       "       'so with u stating that there will be no negotiation with russia until ukraine win the war and von der leyen seizing russia asset there is no way back and no prospect of a peace deal',\n",
       "       'why don t we help organize a peaceful referendum then besides russia need to be punished for war crime and curb imperialism with land cession like nazi germany in the past',\n",
       "       'except the cost of living crisis started long before russia decided to unleash a genocidal war there wa no peace deal unless you mean ukraine wa supposed to subjugate itself to russia ofcourse',\n",
       "       'netflix completes withdrawal from russia amid ukraine war russian subscriber lost access to streaming giant',\n",
       "       'russia is willing to speak with pope francis about the war in ukraine catholic news agency popefrancis popefrancisnews',\n",
       "       'democrat rep jamie raskin defends woke war against russia billion more',\n",
       "       'russia ru ru un russian eu osce mafia arm s network were created after the war in the balkan they are still active in selling to drug kingpin in europe a serb wa sentenced by french justice to year prison but wa never extradited despite an international arrest warrant trafficks from serbia amp bosnia',\n",
       "       '',\n",
       "       'en russia show no willingness to cooperate with icc on russia s many war crime issue',\n",
       "       'which nuclear arsenal would achieve that russia is corrupt to the core to belive their strategic arsenal remained unaffected ha been disproven even their own do not put much faith in it',\n",
       "       'hanke lol i d love to live in your fantasy russia is not responsible for this war',\n",
       "       'europe is facing massive political economic and societal challenge exacerbated by russia s war in ukraine space is ready to play it part read my oped for s critical thinking series below stateofeu stateofeurope',\n",
       "       'putin repeat unsupported dirty bomb claim fueling fear of escalation the new york time',\n",
       "       'medium release iea confirms huge and lasting impact of russia ukraine war on energy market',\n",
       "       'm yeah right i remember the west begging russia to invade ukraine in february and commit war crime vividly',\n",
       "       'the u nato war against russia and the revolutionary role of the american working class',\n",
       "       'u is so powerful persuasive and business minded they will create a scenario where other country look bad like russia it s a perception war even if you side with them you are not sure when it s going to ditch you can you see u a reliable partner',\n",
       "       'i think that s an inaccurate characterization but even if true that is no ground for the u to get involved or risk nuclear war the boundary in that region have moved back and forth forever and fear that russia might take all if europe are only strategic fear mongering',\n",
       "       'hanke no sachs is not right he is not able to understand that anybody else ha agency that russia want do dominate and that ukraine want to survive a a nation there s exactly one reason to worry about nuclear war a morally bankrupt and utterly hapless russian leadership',\n",
       "       'usa nato and eu drive u in ww iii the german sanction against russia destroys our own economy the endless livery of weapon to the ukraine make the suffering bigger and the war longer hopefully russia will win at the end',\n",
       "       'war destroys it never build if russia loses those thousand will not return if it win they will compete for who return before another but they will not be well received nobody like those who escape nothing will ever be what it wa',\n",
       "       'well to be fair the usa and uk did bomb iraq in and privatised iraq s oil and bombed libya in do you think russia s oil gas is nothing to do with ukraine war wake the f up',\n",
       "       'russia will use a dirty bomb any time they cant win on the battlefield putin the little pig ha no card left ukraine putin russian russiaisaterroriststate bitcoin etherum eth btc',\n",
       "       'bolshevik yt statesx voice an ghoill vvriter i think that is how war work do you think nation go to war and not attack duel use infrastructure the train move troop the train run on electricity attacking the power grid is part of war russia waited almost mo before doing that the u did it in week in iraq',\n",
       "       'duffy they are not in an economic crisis they are able to keep gaining foreign exchange from new purchase and the internal market for russia is better than european one bcuz fuel is cheap we european are more fucked also theyve been fucking their game for way longer than the war',\n",
       "       'because the u ha low standing with russia already and they made it clear that they d only consider a prisoner swap this is why you use caution when in other country their law are completely different especially in war time'],\n",
       "      dtype=object)"
      ]
     },
     "execution_count": 11,
     "metadata": {},
     "output_type": "execute_result"
    }
   ],
   "source": [
    "lemmatizer = WordNetLemmatizer()\n",
    "def lemmatise(text):\n",
    "    text_tokens = word_tokenize(text)\n",
    "    text_lemm = [lemmatizer.lemmatize(word) for word in text_tokens]\n",
    "    return ' '.join(text_lemm)\n",
    "\n",
    "tweet_df['cleaned_data'] = tweet_df['cleaned_data'].apply(lemmatise)\n",
    "tweet_df['cleaned_data'].values"
   ]
  },
  {
   "cell_type": "code",
   "execution_count": 12,
   "metadata": {},
   "outputs": [
    {
     "data": {
      "text/plain": [
       "array(['appeal to russia ukraine and world russian believe in jesus ukranian and most european and american also many others too by concidence or not today we talked about the war after we met a guy on the plane and were reading a book about jesus',\n",
       "       'all oligarch home in the uk eu should house ukrainian guest and asset sold to finance them until they return back to their own land slavaukra ni don t be fooled sanction really are hurting russia s war against ukraine carla norrl f',\n",
       "       'to be fair the west ha not sent any a stuff to ukraine rather the west found out it nd generation war machine are more advanced that russia s th generation equivalent',\n",
       "       'russia and myanmar form a partnership of unequals by by sui lee wee via nyt',\n",
       "       'no one take war estimate a factual especially aircraft loss these are notoriously difficult to calculate also especially pre war it wa only russia that we in the west listened too for month we debated nazi and nato and all the time russia wa just lying',\n",
       "       'fighting rage in ukraine s bakhmut a battle for kherson loom russia ukraine war news ukrainian troop are holding out against attack by russian force in two eastern town while those on the southern front are poised to battle for the strateg',\n",
       "       'exclusive video putin is desperate a he s failing russiaislosing stoprussianow ukrainewillwin ukrainecounteroffensive ukrainewarnews ukrainerussiawar ukraine putinwarcrimes iartg russianarmy russia btrtg rt russiaisaterrorisstate russian',\n",
       "       'military career in russia is good until you have to go to war',\n",
       "       'lindheim and i agree but also stuff like that take alot of time in berocracy it took the u a cold war with russia to make u the biggest player and with how divided we are now shit looking rough',\n",
       "       'wagner fighter amp russian troop come to blow l putin s army amp mercenary at odds over ukraine war russia ukraine war news ukrainewar',\n",
       "       'rog so let me get this straight you two want humanity to be united in condemnation against israel but don t want to unite with humanity in condemnation of russia war crime are war crime committed by israel russia the u or the uk',\n",
       "       'iea confirms huge and lasting impact of russia ukraine war on energy market',\n",
       "       'ukraine ha always been at least open to discussing neutrality though perhaps preferring nato membership ukrainian neutrality wa part of a deal negotiated with russia near start of war but rejected by putin who is just an imperialist and this wa a pretext',\n",
       "       'spot on but by the end of the war russia helped the ally invade germany and liberate europe',\n",
       "       'yes i think the russian leadership should understand that fighting a war a an invader in ukraine is mentally very different from repelling an invader in russia or soviet union soldier are simply a lot le motivated to take risk',\n",
       "       'm the people of ukraine want russia to withdraw from our territory and then the war will end',\n",
       "       'i think that president biden and the democrat behind him do not have a far sighted view of the economy especially since russia s war ha begun to take a different turn',\n",
       "       'russia amp putler want to play game with nuclear threat not a smart move on his behalf if it come down to it which a an i hope it doe not we could erase all of russia from the global map no nuclear war need to happen i pray',\n",
       "       'russian destruction over the ukrainian power plant and otherwise infrastructure so far war russia ukraine ukrainewar usa cia ned pentagon coup colonialism terrorism nato n eu r america n',\n",
       "       'i m always hearing people say both on radio and tv that this is the first time ghanaians are experiencing this kind of economic hardship but i have never heard any of them saying that ghana and the world ha been smack by covid and russia ukraine war for the first time',\n",
       "       'i think that president biden and the democrat behind him do not have a far sighted view of the economy especially since russia s war ha begun to take a different turn',\n",
       "       'i think that president biden and the democrat behind him do not have a far sighted view of the economy especially since russia s war ha begun to take a different turn',\n",
       "       'grand roger think the west should capitulate to stop this madness let russia have whatever concession necessary to stop the war that s his opinion and i love roger and david nick richard et al and i respect the brilliance of his mind but this is a complicated problem',\n",
       "       'russia and ukraine are still at war but everyone ha moved on a reminder that you are always on your own in this life you bear consequence of your choice irrespective of whoever influenced it',\n",
       "       'i think that president biden and the democrat behind him do not have a far sighted view of the economy especially since russia s war ha begun to take a different turn',\n",
       "       'za thank you mayor geordin hill lewis for your principled stand for ukraine against the illegal invasion and war crime of putin s russia standwithukraine ukrainewillwin russiaisaterrorisstate',\n",
       "       'i think that president biden and the democrat behind him do not have a far sighted view of the economy especially since russia s war ha begun to take a different turn',\n",
       "       'don t be fooled sanction really are hurting russia s war against ukraine',\n",
       "       'this genius here belief brittney griner is a prisoner of war even though she wa arrested at an airport amp not a battlefield before russia s war in ukraine even began good thing these troll are anonymous bc this is completely embarrassing holy fuck',\n",
       "       'i think that president biden and the democrat behind him do not have a far sighted view of the economy especially since russia s war ha begun to take a different turn',\n",
       "       'ukraine russia war russia conduct nuclear drill moscow reportedly trying to recruit u trained afghan commando',\n",
       "       'a snapshot of my long op ed p norsk today in the title read russia s war made norway s well known drone vulnerability more dangerous and visible',\n",
       "       'a russia s war in ukraine dragged into a ninth month it army s weakness became clearer with an apparent reliance on iranian support growing stronger',\n",
       "       'if you don t show strength then nuclear war is more likely a soon a russia think it can use nuke without consequence it will use them',\n",
       "       'die usa geben den derzeitigen plan einer preisobergrenze f r russisches l auf wie er bisher vorgesehen war ukraine ukrainerussianwar ukrainewar russia nato usa selenskyj eu kherson kharkiv',\n",
       "       'researcher point out state such a russia china turkey iran north korea are likely to target undersea cable in a hybrid war it s necessary for the to work on those cable security commission vice president margaritis schinas warned last month',\n",
       "       'i think that president biden and the democrat behind him do not have a far sighted view of the economy especially since russia s war ha begun to take a different turn',\n",
       "       'ukraine refused to be neutral because they were already in a war with russia',\n",
       "       'submit music when russian troop fled the ukrainian town of balakliia last month they left behind thousand of document that detail the inner working of the russian war machine news twitternews b',\n",
       "       'the ukrainian war is one of the last colonial war russia is the last colonial state on earth',\n",
       "       'we african why should we interfere at this war western and russia they are playing the game on ukrainian ground but one thing when russia need u we won t be hard to be with them',\n",
       "       'there ought to be law against emission racism heck the same luddite argued argued that india wa at fault for funding russia s coffer during the war unbelievable',\n",
       "       'i think that president biden and the democrat behind him do not have a far sighted view of the economy especially since russia s war ha begun to take a different turn',\n",
       "       'world should stop funding war and try to bring both ukraine and russia to solve it diplomatically it s difficult but not impossible to return back to chose life over death',\n",
       "       'russia escalated it special military operation in ukraine the u and nato are directly responsible for goading them into war capitalism is evil and must go',\n",
       "       'putin repeat unsupported dirty bomb claim fueling fear of escalation the new york time',\n",
       "       'exactly with gop poised to retake congress russia want to curry favor with the conservative and get their support in the war',\n",
       "       'russia russian eu un translation russia is considering using dirty bomb because they can t even win a land war',\n",
       "       'russia ukraine war live news kyiv region and zaporizhzhia hit by fresh strike local official say',\n",
       "       'the war between russia and ukraine is taking an ugly turn need to persuade them for talk and ceasefire',\n",
       "       'i think that president biden and the democrat behind him do not have a far sighted view of the economy especially since russia s war ha begun to take a different turn',\n",
       "       'russia started the war of by moving army unit across the border unless you really believe separatist had artillery and tank ready in the second week of fighting in remeber white humanitarian convoy from putin it moved weapon and ammo',\n",
       "       'russia threatens to shoot down commercial satellite helping ukraine their way of war which is the way to achieve political end is about severing all the lifeline for the victim not caring whether the target is legitimate and choosing a target unable to fight back',\n",
       "       'when russian troop fled the ukrainian town of balakliia last month they left behind thousand of document that detail the inner working of the russian war machine',\n",
       "       'when zionist can put war in front of russia through it puppet when they put puppet for year in afg when they put puppet in many other country for year do we think we don t have puppet within u only afg came out of puppet we need to see how they come out of it',\n",
       "       'always try to navigate through the fog of war how many sanction ha turkey imposed on russia',\n",
       "       'here is why this is the beginning of a big russian military defeat in ukraine russia ukraine war news ukrainewar',\n",
       "       'andy vermaut share ukraine war ukrainian and russian grain deal could be extended past november ukrainian and russian grain deal could be extended past november western commercial satellite could be targeted by russia thank you',\n",
       "       'the ethnic russian asked for year to be annexed into russia russia wasted time on minsk negotiation also asked for direct negotiation with washington but wa ignored you got the war you wanted',\n",
       "       'russia considers commercial satellite used in the war in ukraine a legitimate target konstantin vorontsov deputy head of the department for non proliferation and arm control of the russian fm stated this at a meeting of the un general assembly committee starwars in ua',\n",
       "       'pojawi si film przedstawiaj cy konsekwencje ataku ukrai skiego w okupowanym prze ruskich szachtarsku ukraine wojna rosja ukraina rosjaukraina wojnawukrainie warinukraine war russia warcrimes',\n",
       "       'org it s not a conflict it s a war russia invaded a neighbouring country without provocation that is a war',\n",
       "       'hanke so russia invades a major european country in the hope of conquering it land and eradicating it culture but u is to blame good to know what else can we blame the u for secondly so if a country ha nuke we ll tolerate it hostile action and conquest bc muh nuke war',\n",
       "       'russia ukraine war live news kyiv region and zaporizhzhia hit by fresh strike local official say',\n",
       "       'eu is waging the energy war not russia why do you keep repeating your pathetic lie day after day patronizing',\n",
       "       'i think that president biden and the democrat behind him do not have a far sighted view of the economy especially since russia s war ha begun to take a different turn',\n",
       "       'sbear with ukraine s regular military vanquished washington seek to fund a cia backed insurgency to ratchet up civil war and destabilize russia s frontier you have a short memory',\n",
       "       'it is the call of international community and ukraine s ally who have all l been subject to russia s crime this isn t their call alone they can prosecute them in ukraine but a tribunal isn t their call it is the call of those that fund ukraine and that fund this war the west',\n",
       "       'don t be fooled sanction really are hurting russia s war against ukraine',\n",
       "       'thank you mayor geordin hill lewis for your principled stand for ukraine against the illegal invasion and war crime of putin s russia standwithukraine ukrainewillwin russiaisaterrorisstate putinwarcriminal',\n",
       "       'i think that president biden and the democrat behind him do not have a far sighted view of the economy especially since russia s war ha begun to take a different turn',\n",
       "       'fighting rage in ukraine s bakhmut a battle for kherson loom russia ukraine war news',\n",
       "       'i think that president biden and the democrat behind him do not have a far sighted view of the economy especially since russia s war ha begun to take a different turn',\n",
       "       'russia ukraine war at a glance what we know on day of the invasion ukraine the guardian',\n",
       "       'so with u stating that there will be no negotiation with russia until ukraine win the war and von der leyen seizing russia asset there is no way back and no prospect of a peace deal',\n",
       "       'why don t we help organize a peaceful referendum then besides russia need to be punished for war crime and curb imperialism with land cession like nazi germany in the past',\n",
       "       'except the cost of living crisis started long before russia decided to unleash a genocidal war there wa no peace deal unless you mean ukraine wa supposed to subjugate itself to russia ofcourse',\n",
       "       'netflix completes withdrawal from russia amid ukraine war russian subscriber lost access to streaming giant',\n",
       "       'russia is willing to speak with pope francis about the war in ukraine catholic news agency popefrancis popefrancisnews',\n",
       "       'democrat rep jamie raskin defends woke war against russia billion more',\n",
       "       'russia ru ru un russian eu osce mafia arm s network were created after the war in the balkan they are still active in selling to drug kingpin in europe a serb wa sentenced by french justice to year prison but wa never extradited despite an international arrest warrant trafficks from serbia amp bosnia',\n",
       "       '',\n",
       "       'en russia show no willingness to cooperate with icc on russia s many war crime issue',\n",
       "       'which nuclear arsenal would achieve that russia is corrupt to the core to belive their strategic arsenal remained unaffected ha been disproven even their own do not put much faith in it',\n",
       "       'hanke lol i d love to live in your fantasy russia is not responsible for this war',\n",
       "       'europe is facing massive political economic and societal challenge exacerbated by russia s war in ukraine space is ready to play it part read my oped for s critical thinking series below stateofeu stateofeurope',\n",
       "       'putin repeat unsupported dirty bomb claim fueling fear of escalation the new york time',\n",
       "       'medium release iea confirms huge and lasting impact of russia ukraine war on energy market',\n",
       "       'm yeah right i remember the west begging russia to invade ukraine in february and commit war crime vividly',\n",
       "       'the u nato war against russia and the revolutionary role of the american working class',\n",
       "       'u is so powerful persuasive and business minded they will create a scenario where other country look bad like russia it s a perception war even if you side with them you are not sure when it s going to ditch you can you see u a reliable partner',\n",
       "       'i think that s an inaccurate characterization but even if true that is no ground for the u to get involved or risk nuclear war the boundary in that region have moved back and forth forever and fear that russia might take all if europe are only strategic fear mongering',\n",
       "       'hanke no sachs is not right he is not able to understand that anybody else ha agency that russia want do dominate and that ukraine want to survive a a nation there s exactly one reason to worry about nuclear war a morally bankrupt and utterly hapless russian leadership',\n",
       "       'usa nato and eu drive u in ww iii the german sanction against russia destroys our own economy the endless livery of weapon to the ukraine make the suffering bigger and the war longer hopefully russia will win at the end',\n",
       "       'war destroys it never build if russia loses those thousand will not return if it win they will compete for who return before another but they will not be well received nobody like those who escape nothing will ever be what it wa',\n",
       "       'well to be fair the usa and uk did bomb iraq in and privatised iraq s oil and bombed libya in do you think russia s oil gas is nothing to do with ukraine war wake the f up',\n",
       "       'russia will use a dirty bomb any time they cant win on the battlefield putin the little pig ha no card left ukraine putin russian russiaisaterroriststate bitcoin etherum eth btc',\n",
       "       'bolshevik yt statesx voice an ghoill vvriter i think that is how war work do you think nation go to war and not attack duel use infrastructure the train move troop the train run on electricity attacking the power grid is part of war russia waited almost mo before doing that the u did it in week in iraq',\n",
       "       'duffy they are not in an economic crisis they are able to keep gaining foreign exchange from new purchase and the internal market for russia is better than european one bcuz fuel is cheap we european are more fucked also theyve been fucking their game for way longer than the war',\n",
       "       'because the u ha low standing with russia already and they made it clear that they d only consider a prisoner swap this is why you use caution when in other country their law are completely different especially in war time'],\n",
       "      dtype=object)"
      ]
     },
     "execution_count": 12,
     "metadata": {},
     "output_type": "execute_result"
    }
   ],
   "source": [
    "tweet_df['cleaned_data'].values"
   ]
  },
  {
   "cell_type": "code",
   "execution_count": 13,
   "metadata": {},
   "outputs": [],
   "source": [
    "def remove_stopword(text):\n",
    "    text_tokens = word_tokenize(text)\n",
    "    tokens = [word for word in text_tokens if not word in set(stopwords.words('english'))]\n",
    "    tokens_text = ' '.join(tokens)\n",
    "    return tokens_text\n",
    "\n",
    "tweet_df['cleaned_data'] = tweet_df['cleaned_data'].apply(remove_stopword)"
   ]
  },
  {
   "cell_type": "code",
   "execution_count": 14,
   "metadata": {},
   "outputs": [
    {
     "data": {
      "text/plain": [
       "array(['appeal russia ukraine world russian believe jesus ukranian european american also many others concidence today talked war met guy plane reading book jesus',\n",
       "       'oligarch home uk eu house ukrainian guest asset sold finance return back land slavaukra ni fooled sanction really hurting russia war ukraine carla norrl f',\n",
       "       'fair west ha sent stuff ukraine rather west found nd generation war machine advanced russia th generation equivalent',\n",
       "       'russia myanmar form partnership unequals sui lee wee via nyt',\n",
       "       'one take war estimate factual especially aircraft loss notoriously difficult calculate also especially pre war wa russia west listened month debated nazi nato time russia wa lying',\n",
       "       'fighting rage ukraine bakhmut battle kherson loom russia ukraine war news ukrainian troop holding attack russian force two eastern town southern front poised battle strateg',\n",
       "       'exclusive video putin desperate failing russiaislosing stoprussianow ukrainewillwin ukrainecounteroffensive ukrainewarnews ukrainerussiawar ukraine putinwarcrimes iartg russianarmy russia btrtg rt russiaisaterrorisstate russian',\n",
       "       'military career russia good go war',\n",
       "       'lindheim agree also stuff like take alot time berocracy took u cold war russia make u biggest player divided shit looking rough',\n",
       "       'wagner fighter amp russian troop come blow l putin army amp mercenary odds ukraine war russia ukraine war news ukrainewar',\n",
       "       'rog let get straight two want humanity united condemnation israel want unite humanity condemnation russia war crime war crime committed israel russia u uk',\n",
       "       'iea confirms huge lasting impact russia ukraine war energy market',\n",
       "       'ukraine ha always least open discussing neutrality though perhaps preferring nato membership ukrainian neutrality wa part deal negotiated russia near start war rejected putin imperialist wa pretext',\n",
       "       'spot end war russia helped ally invade germany liberate europe',\n",
       "       'yes think russian leadership understand fighting war invader ukraine mentally different repelling invader russia soviet union soldier simply lot le motivated take risk',\n",
       "       'people ukraine want russia withdraw territory war end',\n",
       "       'think president biden democrat behind far sighted view economy especially since russia war ha begun take different turn',\n",
       "       'russia amp putler want play game nuclear threat smart move behalf come hope doe could erase russia global map nuclear war need happen pray',\n",
       "       'russian destruction ukrainian power plant otherwise infrastructure far war russia ukraine ukrainewar usa cia ned pentagon coup colonialism terrorism nato n eu r america n',\n",
       "       'always hearing people say radio tv first time ghanaians experiencing kind economic hardship never heard saying ghana world ha smack covid russia ukraine war first time',\n",
       "       'think president biden democrat behind far sighted view economy especially since russia war ha begun take different turn',\n",
       "       'think president biden democrat behind far sighted view economy especially since russia war ha begun take different turn',\n",
       "       'grand roger think west capitulate stop madness let russia whatever concession necessary stop war opinion love roger david nick richard et al respect brilliance mind complicated problem',\n",
       "       'russia ukraine still war everyone ha moved reminder always life bear consequence choice irrespective whoever influenced',\n",
       "       'think president biden democrat behind far sighted view economy especially since russia war ha begun take different turn',\n",
       "       'za thank mayor geordin hill lewis principled stand ukraine illegal invasion war crime putin russia standwithukraine ukrainewillwin russiaisaterrorisstate',\n",
       "       'think president biden democrat behind far sighted view economy especially since russia war ha begun take different turn',\n",
       "       'fooled sanction really hurting russia war ukraine',\n",
       "       'genius belief brittney griner prisoner war even though wa arrested airport amp battlefield russia war ukraine even began good thing troll anonymous bc completely embarrassing holy fuck',\n",
       "       'think president biden democrat behind far sighted view economy especially since russia war ha begun take different turn',\n",
       "       'ukraine russia war russia conduct nuclear drill moscow reportedly trying recruit u trained afghan commando',\n",
       "       'snapshot long op ed p norsk today title read russia war made norway well known drone vulnerability dangerous visible',\n",
       "       'russia war ukraine dragged ninth month army weakness became clearer apparent reliance iranian support growing stronger',\n",
       "       'show strength nuclear war likely soon russia think use nuke without consequence use',\n",
       "       'die usa geben den derzeitigen plan einer preisobergrenze f r russisches l auf wie er bisher vorgesehen war ukraine ukrainerussianwar ukrainewar russia nato usa selenskyj eu kherson kharkiv',\n",
       "       'researcher point state russia china turkey iran north korea likely target undersea cable hybrid war necessary work cable security commission vice president margaritis schinas warned last month',\n",
       "       'think president biden democrat behind far sighted view economy especially since russia war ha begun take different turn',\n",
       "       'ukraine refused neutral already war russia',\n",
       "       'submit music russian troop fled ukrainian town balakliia last month left behind thousand document detail inner working russian war machine news twitternews b',\n",
       "       'ukrainian war one last colonial war russia last colonial state earth',\n",
       "       'african interfere war western russia playing game ukrainian ground one thing russia need u hard',\n",
       "       'ought law emission racism heck luddite argued argued india wa fault funding russia coffer war unbelievable',\n",
       "       'think president biden democrat behind far sighted view economy especially since russia war ha begun take different turn',\n",
       "       'world stop funding war try bring ukraine russia solve diplomatically difficult impossible return back chose life death',\n",
       "       'russia escalated special military operation ukraine u nato directly responsible goading war capitalism evil must go',\n",
       "       'putin repeat unsupported dirty bomb claim fueling fear escalation new york time',\n",
       "       'exactly gop poised retake congress russia want curry favor conservative get support war',\n",
       "       'russia russian eu un translation russia considering using dirty bomb even win land war',\n",
       "       'russia ukraine war live news kyiv region zaporizhzhia hit fresh strike local official say',\n",
       "       'war russia ukraine taking ugly turn need persuade talk ceasefire',\n",
       "       'think president biden democrat behind far sighted view economy especially since russia war ha begun take different turn',\n",
       "       'russia started war moving army unit across border unless really believe separatist artillery tank ready second week fighting remeber white humanitarian convoy putin moved weapon ammo',\n",
       "       'russia threatens shoot commercial satellite helping ukraine way war way achieve political end severing lifeline victim caring whether target legitimate choosing target unable fight back',\n",
       "       'russian troop fled ukrainian town balakliia last month left behind thousand document detail inner working russian war machine',\n",
       "       'zionist put war front russia puppet put puppet year afg put puppet many country year think puppet within u afg came puppet need see come',\n",
       "       'always try navigate fog war many sanction ha turkey imposed russia',\n",
       "       'beginning big russian military defeat ukraine russia ukraine war news ukrainewar',\n",
       "       'andy vermaut share ukraine war ukrainian russian grain deal could extended past november ukrainian russian grain deal could extended past november western commercial satellite could targeted russia thank',\n",
       "       'ethnic russian asked year annexed russia russia wasted time minsk negotiation also asked direct negotiation washington wa ignored got war wanted',\n",
       "       'russia considers commercial satellite used war ukraine legitimate target konstantin vorontsov deputy head department non proliferation arm control russian fm stated meeting un general assembly committee starwars ua',\n",
       "       'pojawi si film przedstawiaj cy konsekwencje ataku ukrai skiego w okupowanym prze ruskich szachtarsku ukraine wojna rosja ukraina rosjaukraina wojnawukrainie warinukraine war russia warcrimes',\n",
       "       'org conflict war russia invaded neighbouring country without provocation war',\n",
       "       'hanke russia invades major european country hope conquering land eradicating culture u blame good know else blame u secondly country ha nuke tolerate hostile action conquest bc muh nuke war',\n",
       "       'russia ukraine war live news kyiv region zaporizhzhia hit fresh strike local official say',\n",
       "       'eu waging energy war russia keep repeating pathetic lie day day patronizing',\n",
       "       'think president biden democrat behind far sighted view economy especially since russia war ha begun take different turn',\n",
       "       'sbear ukraine regular military vanquished washington seek fund cia backed insurgency ratchet civil war destabilize russia frontier short memory',\n",
       "       'call international community ukraine ally l subject russia crime call alone prosecute ukraine tribunal call call fund ukraine fund war west',\n",
       "       'fooled sanction really hurting russia war ukraine',\n",
       "       'thank mayor geordin hill lewis principled stand ukraine illegal invasion war crime putin russia standwithukraine ukrainewillwin russiaisaterrorisstate putinwarcriminal',\n",
       "       'think president biden democrat behind far sighted view economy especially since russia war ha begun take different turn',\n",
       "       'fighting rage ukraine bakhmut battle kherson loom russia ukraine war news',\n",
       "       'think president biden democrat behind far sighted view economy especially since russia war ha begun take different turn',\n",
       "       'russia ukraine war glance know day invasion ukraine guardian',\n",
       "       'u stating negotiation russia ukraine win war von der leyen seizing russia asset way back prospect peace deal',\n",
       "       'help organize peaceful referendum besides russia need punished war crime curb imperialism land cession like nazi germany past',\n",
       "       'except cost living crisis started long russia decided unleash genocidal war wa peace deal unless mean ukraine wa supposed subjugate russia ofcourse',\n",
       "       'netflix completes withdrawal russia amid ukraine war russian subscriber lost access streaming giant',\n",
       "       'russia willing speak pope francis war ukraine catholic news agency popefrancis popefrancisnews',\n",
       "       'democrat rep jamie raskin defends woke war russia billion',\n",
       "       'russia ru ru un russian eu osce mafia arm network created war balkan still active selling drug kingpin europe serb wa sentenced french justice year prison wa never extradited despite international arrest warrant trafficks serbia amp bosnia',\n",
       "       '',\n",
       "       'en russia show willingness cooperate icc russia many war crime issue',\n",
       "       'nuclear arsenal would achieve russia corrupt core belive strategic arsenal remained unaffected ha disproven even put much faith',\n",
       "       'hanke lol love live fantasy russia responsible war',\n",
       "       'europe facing massive political economic societal challenge exacerbated russia war ukraine space ready play part read oped critical thinking series stateofeu stateofeurope',\n",
       "       'putin repeat unsupported dirty bomb claim fueling fear escalation new york time',\n",
       "       'medium release iea confirms huge lasting impact russia ukraine war energy market',\n",
       "       'yeah right remember west begging russia invade ukraine february commit war crime vividly',\n",
       "       'u nato war russia revolutionary role american working class',\n",
       "       'u powerful persuasive business minded create scenario country look bad like russia perception war even side sure going ditch see u reliable partner',\n",
       "       'think inaccurate characterization even true ground u get involved risk nuclear war boundary region moved back forth forever fear russia might take europe strategic fear mongering',\n",
       "       'hanke sachs right able understand anybody else ha agency russia want dominate ukraine want survive nation exactly one reason worry nuclear war morally bankrupt utterly hapless russian leadership',\n",
       "       'usa nato eu drive u ww iii german sanction russia destroys economy endless livery weapon ukraine make suffering bigger war longer hopefully russia win end',\n",
       "       'war destroys never build russia loses thousand return win compete return another well received nobody like escape nothing ever wa',\n",
       "       'well fair usa uk bomb iraq privatised iraq oil bombed libya think russia oil gas nothing ukraine war wake f',\n",
       "       'russia use dirty bomb time cant win battlefield putin little pig ha card left ukraine putin russian russiaisaterroriststate bitcoin etherum eth btc',\n",
       "       'bolshevik yt statesx voice ghoill vvriter think war work think nation go war attack duel use infrastructure train move troop train run electricity attacking power grid part war russia waited almost mo u week iraq',\n",
       "       'duffy economic crisis able keep gaining foreign exchange new purchase internal market russia better european one bcuz fuel cheap european fucked also theyve fucking game way longer war',\n",
       "       'u ha low standing russia already made clear consider prisoner swap use caution country law completely different especially war time'],\n",
       "      dtype=object)"
      ]
     },
     "execution_count": 14,
     "metadata": {},
     "output_type": "execute_result"
    }
   ],
   "source": [
    "tweet_df['cleaned_data'].values"
   ]
  },
  {
   "cell_type": "markdown",
   "metadata": {},
   "source": [
    "# 5"
   ]
  },
  {
   "cell_type": "code",
   "execution_count": 15,
   "metadata": {},
   "outputs": [],
   "source": [
    "# Lets calculate the Polarity of the Reviews\n",
    "def get_polarity(text):\n",
    "    textblob = TextBlob(str(text))\n",
    "    pol = textblob.sentiment.polarity\n",
    "    if(pol==0):\n",
    "        return \"Neutral\"\n",
    "    elif(pol>0 and pol<=0.3):\n",
    "        return \"Weakly Positive\"\n",
    "    elif(pol>0.3 and pol<=0.6):\n",
    "        return \"Positive\"\n",
    "    elif(pol>0.6 and pol<=1):\n",
    "        return \"Strongly Positive\"\n",
    "    elif(pol>-0.3 and pol<=0):\n",
    "        return \"Weakly Negative\"\n",
    "    elif(pol>-0.6 and pol<=-0.3):\n",
    "        return \"Negative\"\n",
    "    elif(pol>-1 and pol<=-0.6):\n",
    "        return \"Strongly Negative\"\n",
    "    \n",
    "tweet_df['polarity'] = tweet_df['cleaned_data'].apply(get_polarity)"
   ]
  },
  {
   "cell_type": "code",
   "execution_count": 16,
   "metadata": {},
   "outputs": [
    {
     "data": {
      "text/plain": [
       "Weakly Negative      31\n",
       "Weakly Positive      30\n",
       "Neutral              23\n",
       "Positive              7\n",
       "Negative              6\n",
       "Strongly Negative     1\n",
       "Strongly Positive     1\n",
       "Name: polarity, dtype: int64"
      ]
     },
     "execution_count": 16,
     "metadata": {},
     "output_type": "execute_result"
    }
   ],
   "source": [
    "tweet_df['polarity'].value_counts()"
   ]
  },
  {
   "cell_type": "code",
   "execution_count": 17,
   "metadata": {},
   "outputs": [
    {
     "data": {
      "text/plain": [
       "0               object\n",
       "cleaned_data    object\n",
       "polarity        object\n",
       "dtype: object"
      ]
     },
     "execution_count": 17,
     "metadata": {},
     "output_type": "execute_result"
    }
   ],
   "source": [
    "tweet_df.dtypes"
   ]
  },
  {
   "cell_type": "code",
   "execution_count": 18,
   "metadata": {},
   "outputs": [],
   "source": [
    "neutral = 0\n",
    "wpositive = 0\n",
    "spositive = 0\n",
    "positive = 0\n",
    "negative = 0\n",
    "wnegative = 0\n",
    "snegative = 0\n",
    "polarity = 0\n",
    "\n",
    "for i in range(0,70):\n",
    "    textblob = TextBlob(str(tweet_df['cleaned_data'][i]))\n",
    "    polarity+= textblob.sentiment.polarity\n",
    "    pol = textblob.sentiment.polarity\n",
    "    if (pol == 0):  # adding reaction of how people are reacting to find average later\n",
    "        neutral += 1\n",
    "    elif (pol > 0 and pol <= 0.3):\n",
    "        wpositive += 1\n",
    "    elif (pol > 0.3 and pol <= 0.6):\n",
    "        positive += 1\n",
    "    elif (pol > 0.6 and pol <= 1):\n",
    "        spositive += 1\n",
    "    elif (pol > -0.3 and pol <= 0):\n",
    "        wnegative += 1\n",
    "    elif (pol > -0.6 and pol <= -0.3):\n",
    "        negative += 1\n",
    "    elif (pol > -1 and pol <= -0.6):\n",
    "        snegative += 1\n"
   ]
  },
  {
   "cell_type": "code",
   "execution_count": 21,
   "metadata": {},
   "outputs": [
    {
     "data": {
      "text/plain": [
       "-0.03819000721500721"
      ]
     },
     "execution_count": 21,
     "metadata": {},
     "output_type": "execute_result"
    }
   ],
   "source": [
    "# finding average reaction\n",
    "NoOfTerms=NoofTweets\n",
    "polarity = polarity / NoOfTerms\n",
    "polarity"
   ]
  },
  {
   "cell_type": "code",
   "execution_count": 22,
   "metadata": {},
   "outputs": [],
   "source": [
    "def percentage(part, whole):\n",
    "    temp = 100 * float(part) / float(whole)\n",
    "    return format(temp, '.2f')"
   ]
  },
  {
   "cell_type": "code",
   "execution_count": 23,
   "metadata": {},
   "outputs": [],
   "source": [
    " # finding average of how people are reacting\n",
    "positive = percentage(positive, NoOfTerms)\n",
    "wpositive = percentage(wpositive, NoOfTerms)\n",
    "spositive = percentage(spositive, NoOfTerms)\n",
    "negative = percentage(negative, NoOfTerms)\n",
    "wnegative = percentage(wnegative, NoOfTerms)\n",
    "snegative = percentage(snegative, NoOfTerms)\n",
    "neutral = percentage(neutral, NoOfTerms)\n",
    "\n"
   ]
  },
  {
   "cell_type": "code",
   "execution_count": 24,
   "metadata": {},
   "outputs": [
    {
     "name": "stdout",
     "output_type": "stream",
     "text": [
      "How people are reacting on Russia war by analyzing 50 tweets.\n",
      "\n",
      "-----------------------------------------------------------------------------------------\n",
      "\n",
      "General Report: \n",
      "Weakly Negative\n",
      "\n",
      "------------------------------------------------------------------------------------------\n",
      "\n",
      "Detailed Report: \n",
      "8.00% people thought it was positive\n",
      "36.00% people thought it was weakly positive\n",
      "0.00% people thought it was strongly positive\n",
      "12.00% people thought it was negative\n",
      "50.00% people thought it was weakly negative\n",
      "2.00% people thought it was strongly negative\n",
      "30.00% people thought it was neutral\n"
     ]
    }
   ],
   "source": [
    " # printing out data\n",
    "print(\"How people are reacting on \" + searchTerm + \" by analyzing \" + str(NoOfTerms) + \" tweets.\")\n",
    "print()\n",
    "print(\"-----------------------------------------------------------------------------------------\")\n",
    "print()\n",
    "print(\"General Report: \")\n",
    "\n",
    "if (polarity == 0):\n",
    "    print(\"Neutral\")\n",
    "elif (polarity > 0 and polarity <= 0.3):\n",
    "    print(\"Weakly Positive\")\n",
    "elif (polarity > 0.3 and polarity <= 0.6):\n",
    "    print(\"Positive\")\n",
    "elif (polarity > 0.6 and polarity <= 1):\n",
    "    print(\"Strongly Positive\")\n",
    "elif (polarity > -0.3 and polarity <= 0):\n",
    "    print(\"Weakly Negative\")\n",
    "elif (polarity > -0.6 and polarity <= -0.3):\n",
    "    print(\"Negative\")\n",
    "elif (polarity > -1 and polarity <= -0.6):\n",
    "    print(\"Strongly Negative\")\n",
    "\n",
    "print()\n",
    "print(\"------------------------------------------------------------------------------------------\")\n",
    "print()\n",
    "print(\"Detailed Report: \")\n",
    "print(str(positive) + \"% people thought it was positive\")\n",
    "print(str(wpositive) + \"% people thought it was weakly positive\")\n",
    "print(str(spositive) + \"% people thought it was strongly positive\")\n",
    "print(str(negative) + \"% people thought it was negative\")\n",
    "print(str(wnegative) + \"% people thought it was weakly negative\")\n",
    "print(str(snegative) + \"% people thought it was strongly negative\")\n",
    "print(str(neutral) + \"% people thought it was neutral\")"
   ]
  },
  {
   "cell_type": "code",
   "execution_count": 25,
   "metadata": {},
   "outputs": [],
   "source": [
    "sizes = [positive, wpositive, spositive, neutral, negative, wnegative, snegative]\n",
    "colors = ['yellowgreen','lightgreen','darkgreen', 'gold', 'red','lightsalmon','darkred']\n",
    "labels = ['Positive [' + str(positive) + '%]', 'Weakly Positive [' + str(wpositive) + '%]',\n",
    "          'Strongly Positive [' + str(spositive) + '%]', 'Neutral [' + str(neutral) + '%]',\n",
    "          'Negative [' + str(negative) + '%]', 'Weakly Negative [' + str(wnegative) + '%]', \n",
    "          'Strongly Negative [' + str(snegative) + '%]']"
   ]
  },
  {
   "cell_type": "code",
   "execution_count": 28,
   "metadata": {},
   "outputs": [
    {
     "data": {
      "image/png": "[encoded data removed]",
      "text/plain": [
       "<Figure size 432x288 with 1 Axes>"
      ]
     },
     "metadata": {},
     "output_type": "display_data"
    }
   ],
   "source": [
    "plt.pie(sizes, labels = labels, colors = colors)\n",
    "plt.legend(labels, loc=\"best\")\n",
    "plt.title('How people are reacting on ' + searchTerm + ' by analyzing ' + str(NoOfTerms) + ' Tweets.')\n",
    "plt.axis('equal')\n",
    "plt.tight_layout()\n",
    "plt.show()"
   ]
  },
  {
   "cell_type": "code",
   "execution_count": null,
   "metadata": {},
   "outputs": [],
   "source": []
  },
  {
   "cell_type": "code",
   "execution_count": null,
   "metadata": {},
   "outputs": [],
   "source": []
  },
  {
   "cell_type": "code",
   "execution_count": null,
   "metadata": {},
   "outputs": [],
   "source": []
  }
 ],
 "metadata": {
  "kernelspec": {
   "display_name": "Python 3",
   "language": "python",
   "name": "python3"
  },
  "language_info": {
   "codemirror_mode": {
    "name": "ipython",
    "version": 3
   },
   "file_extension": ".py",
   "mimetype": "text/x-python",
   "name": "python",
   "nbconvert_exporter": "python",
   "pygments_lexer": "ipython3",
   "version": "3.8.5"
  },
  "vscode": {
   "interpreter": {
    "hash": "0252f7fa781c61a783a5413d489db26829d6ff4c112c0241d56d7b0e63aa1a69"
   }
  }
 },
 "nbformat": 4,
 "nbformat_minor": 4
}
